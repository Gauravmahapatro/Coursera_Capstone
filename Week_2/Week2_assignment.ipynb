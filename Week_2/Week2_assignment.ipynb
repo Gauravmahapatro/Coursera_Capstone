{
 "cells": [
  {
   "cell_type": "markdown",
   "metadata": {},
   "source": [
    "# Introduction\n"
   ]
  },
  {
   "cell_type": "markdown",
   "metadata": {},
   "source": [
    "<font size=\"4\">Road accidents are one of the major causes of death, injury and disability in all over the world both in developed and  developing countries.With a broad estimate, in every 1 min, 2 people are killed and 95 people are severely injured or permanently disabled in traffic accidents worldwide.Traffic accident related deaths and injuries result in not only substantial economic losses but also serious physical and mental sufferings. Developing countries are much more affected from traffic accidents than developed countries. According to the world health organization (WHO) statistics, 75% of deaths resulted from traffic accidents occurring in developing countries,although they own only 32% of the motor vehicles in the world. While the annual fatality per 10,000 vehicles ranges from 20 to 200 in low or middle income countries, it varies between 1.5 and 5 in industrialized countries.\n",
    "\n",
    "Road traffic crashes occur on all continents and in every country of the world. Every year they take the lives of more than a million people and incapacitate many millions more. Pedestrians, users of non-motorized vehicles–including bicycles, rick–shaws, carts and motor cyclists in low–income and middle–income countries carry a large proportion of the global burden of road traffic death and serious injury.\n",
    "\n",
    "Road safety is an important concern due to increasing accidents.Hence it is very important to be able to reduce the risk of severity before accidents occur, and as Erasmus has quoted \"**Prevention is better than cure**\".\n",
    "\n",
    "This project aims to build a model which predicts the severity of accidents taking a number of attributes into account such as the address type,type of junction,weather and light conditions,etc.</font>\n"
   ]
  },
  {
   "cell_type": "markdown",
   "metadata": {},
   "source": [
    "# Target audience"
   ]
  },
  {
   "cell_type": "markdown",
   "metadata": {},
   "source": [
    "<font size=\"4\">The target audience would be the local drivers,government authorities and the police. For instance,this project can help the local drivers to know which address types are more prone to severe accidents,they can take precationary measures or be more attentive. Similarly if the government gets to know the address type where low lightning leads to more severe accidents,than the government can improve the lightning conditions by setting up more street lights.</font>"
   ]
  },
  {
   "cell_type": "markdown",
   "metadata": {},
   "source": [
    "# Data"
   ]
  },
  {
   "cell_type": "markdown",
   "metadata": {},
   "source": [
    "<font size=\"4\">\n",
    "The data used for this study is given by the Applied Data Science Capstone course on Coursera.org.You can find the data using the following link https://s3.us.cloud-object-storage.appdomain.cloud/cf-courses-data/CognitiveClass/DP0701EN/version-2/Data-Collisions.csv. (I will also uploading the data in my github repo).\n",
    "\n",
    "The dataset has information gathered on the road traffic accidents of Seattle City. The initial dataset consists of 38 columns/attributes(37 non target attributes and 1 target attribute)and 194673 rows. Python packages such as Pandas,Numpy,Matplotlib will be used to conduct this study. The dataset will be cleaned according to the requirements of this project. Missing data information will either be substituted using valid means or dropped – considering the amount of missing data and the description of individual elements. Duplicate values will be dropped. After Data cleaning ,EDA will be performed to see the inter dependency between various attributes and than less correlated attributes will be dropped.\n",
    "\n",
    "After Data Cleaning and EDA,the features mainly used will be: • SEVERITYCODE • ADDRTYPE • JUNCTIONTYPE • SDOT_COLDESC (Description of the collision) • WEATHER • LIGHTCOND for building the final model.</font>\n",
    "\n",
    "\n",
    "\n",
    "  "
   ]
  }
 ],
 "metadata": {
  "kernelspec": {
   "display_name": "Python 3",
   "language": "python",
   "name": "python3"
  },
  "language_info": {
   "codemirror_mode": {
    "name": "ipython",
    "version": 3
   },
   "file_extension": ".py",
   "mimetype": "text/x-python",
   "name": "python",
   "nbconvert_exporter": "python",
   "pygments_lexer": "ipython3",
   "version": "3.7.4"
  }
 },
 "nbformat": 4,
 "nbformat_minor": 2
}
